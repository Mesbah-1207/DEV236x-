{
  "cells": [
    {
      "metadata": {},
      "cell_type": "markdown",
      "source": "# 1-7.2 Intro Python Practice\n## `while()` loops & increments\n<font size=\"5\" color=\"#00A0B2\"  face=\"verdana\"> <B>Student will be able to</B></font>\n- create forever loops using `while` and `break`\n- use incrementing variables in a while loop\n- control while loops using Boolean operators"
    },
    {
      "metadata": {
        "trusted": true
      },
      "cell_type": "code",
      "source": "# [ ] use a \"forever\" while loop to get user input of integers to add to sum, \n# until a non-digit is entered, then break the loop and print sum\n\nsum = 0\nsNum = \"0\"\nwhile sNum.isdigit():\n    sNum = input(\"Please enter a number to add: \")\n    if sNum.isdigit() == True:\n        sum = sum + int(sNum)\nprint(sum)\n\n",
      "execution_count": 3,
      "outputs": [
        {
          "output_type": "stream",
          "name": "stdout",
          "text": "Please enter a number to add: 4\nPlease enter a number to add: 6\nPlease enter a number to add: 10\nPlease enter a number to add: x\n20\n"
        }
      ]
    },
    {
      "metadata": {
        "trusted": true
      },
      "cell_type": "code",
      "source": "# [ ] use a while True loop (forever loop) to give 4 chances for input of a correct color in a rainbow\n# rainbow = \"red orange yellow green blue indigo violet\"\n\nrainbow = \"red orange yellow green blue indigo violet\"\nans = \"\"\ncounter = 4\nwhile counter > 0:\n    ans =  input(\"Please enter a rainbow color: \")\n    if ans.lower() in rainbow:\n        print('correct')\n        break;\n    else:\n        counter = counter - 1\n        print(counter)\n        \n",
      "execution_count": 5,
      "outputs": [
        {
          "output_type": "stream",
          "name": "stdout",
          "text": "Please enter a rainbow color: s\n3\nPlease enter a rainbow color: s\n2\nPlease enter a rainbow color: s\n1\nPlease enter a rainbow color: s\n0\n"
        }
      ]
    },
    {
      "metadata": {
        "trusted": true
      },
      "cell_type": "code",
      "source": "# [ ] Get input for a book title, keep looping while input is Not in title format (title is every word capitalized)\n\ntitle = \"\"\nwhile True:\n    title = input(\"Please enter a book title: \")\n    if title == title.title():\n        break;\n\n",
      "execution_count": 7,
      "outputs": [
        {
          "output_type": "stream",
          "name": "stdout",
          "text": "Please enter a book title: learn python\nPlease enter a book title: Learn python\nPlease enter a book title: Learn Python\n"
        }
      ]
    },
    {
      "metadata": {
        "trusted": true
      },
      "cell_type": "code",
      "source": "# [ ] create a math quiz question and ask for the solution until the input is correct\n\nans_quiz = \"\"\nwhile True:\n    ans_quiz = input(\"What is (7*3 - 11):? \")\n    if ans_quiz == \"10\":\n        break;\n",
      "execution_count": 9,
      "outputs": [
        {
          "output_type": "stream",
          "name": "stdout",
          "text": "What is (7*3 - 11):? 3\nWhat is (7*3 - 11):? 4\nWhat is (7*3 - 11):? 2\nWhat is (7*3 - 11):? 1\nWhat is (7*3 - 11):? 10\n"
        }
      ]
    },
    {
      "metadata": {},
      "cell_type": "markdown",
      "source": "### Fix the Error"
    },
    {
      "metadata": {
        "trusted": true
      },
      "cell_type": "code",
      "source": "# [ ] review the code, run, fix the error\ntickets = int(input(\"enter tickets remaining (0 to quit): \"))\n\nwhile tickets > 0:\n        # if tickets are multiple of 3 then \"winner\"\n    if int(tickets/3) == tickets/3:\n        print(\"you win!\")\n    else:\n        print(\"sorry, not a winner.\")\n    tickets = int(input(\"enter tickets remaining (0 to quit): \"))\n\nprint(\"Game ended\")\n    \n",
      "execution_count": 55,
      "outputs": [
        {
          "output_type": "stream",
          "name": "stdout",
          "text": "enter tickets remaining (0 to quit): 8\nsorry, not a winner.\nenter tickets remaining (0 to quit): 7\nsorry, not a winner.\nenter tickets remaining (0 to quit): 5\nsorry, not a winner.\nenter tickets remaining (0 to quit): 3\nyou win!\nenter tickets remaining (0 to quit): 0\nGame ended\n"
        }
      ]
    },
    {
      "metadata": {},
      "cell_type": "markdown",
      "source": "### create a function: quiz_item()  that asks a question and tests if input is correct  \n- quiz_item()has 2 parameter **strings**: question and solution  \n- shows question, gets answer input  \n- returns True if `answer == solution` or continues to ask question until correct answer is provided  \n- use a while loop\n\ncreate 2 or more quiz questions that call quiz_item()  \n**Hint**: provide multiple choice or T/F answers"
    },
    {
      "metadata": {
        "trusted": true
      },
      "cell_type": "code",
      "source": "# Create quiz_item() and 2 or more quiz questions that call quiz_item()\n\n\ndef quiz_item(ques, solution):\n        print(ques)\n        ans = \"\"\n        ans = input(\"please answer both questions TRUE or FALSE separated by space : \")\n        while ans.lower() != solution.lower():\n            ans= input(\"please answer both questions TRUE or FALSE separated by space : \")\n            if ans.lower() == solution.lower():\n                break;\n            \n        return True;\n            \nquiz_item(\"Question 1: Is Microsoft the provider of this course?: \\nQuestion 2: Is this course using Jupyter notebook? \", \"true true\")\n    \n\n\n    ",
      "execution_count": 70,
      "outputs": [
        {
          "output_type": "stream",
          "text": "Question 1: Is Microsoft the provider of this course?: \nQuestion 2: Is this course using Jupyter notebook? \nplease answer both questions TRUE or FALSE separated by space : TRUE FALSE\nplease answer both questions TRUE or FALSE separated by space : FALSE FALSE\nplease answer both questions TRUE or FALSE separated by space : FALSE TRUE\nplease answer both questions TRUE or FALSE separated by space : true TRUE\n",
          "name": "stdout"
        },
        {
          "output_type": "execute_result",
          "execution_count": 70,
          "data": {
            "text/plain": "True"
          },
          "metadata": {}
        }
      ]
    },
    {
      "metadata": {
        "collapsed": true
      },
      "cell_type": "markdown",
      "source": "[Terms of use](http://go.microsoft.com/fwlink/?LinkID=206977) &nbsp; [Privacy & cookies](https://go.microsoft.com/fwlink/?LinkId=521839) &nbsp; © 2017 Microsoft"
    }
  ],
  "metadata": {
    "anaconda-cloud": {},
    "kernelspec": {
      "name": "python3",
      "display_name": "Python 3",
      "language": "python"
    },
    "language_info": {
      "mimetype": "text/x-python",
      "nbconvert_exporter": "python",
      "name": "python",
      "file_extension": ".py",
      "version": "3.5.4",
      "pygments_lexer": "ipython3",
      "codemirror_mode": {
        "version": 3,
        "name": "ipython"
      }
    }
  },
  "nbformat": 4,
  "nbformat_minor": 1
}