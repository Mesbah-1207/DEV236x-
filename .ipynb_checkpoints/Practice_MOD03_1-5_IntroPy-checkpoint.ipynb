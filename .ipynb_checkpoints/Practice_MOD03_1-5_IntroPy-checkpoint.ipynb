{
  "cells": [
    {
      "metadata": {},
      "cell_type": "markdown",
      "source": "# 1-5 Intro Python Practice  \n## conditionals, type, and mathematics extended   \n&nbsp;\n<font size=\"5\" color=\"#00A0B2\"  face=\"verdana\"> <B>Student will be able to</B></font>  \n- code more than two choices using **`elif`** \n- gather numeric input using type casting  \n- perform subtraction, multiplication and division operations in code  &nbsp;  \n"
    },
    {
      "metadata": {},
      "cell_type": "markdown",
      "source": "# &nbsp;  \n<font size=\"6\" color=\"#B24C00\"  face=\"verdana\"> <B>Tasks</B></font>"
    },
    {
      "metadata": {},
      "cell_type": "markdown",
      "source": "### Rainbow colors\nask for input of a favorite rainbow color first letter: ROYGBIV  \n\nUsing `if`, `elif`, and `else`:  \n- print the color matching the letter  \n    - R = Red  \n    - O = Orange  \n    - Y = Yellow  \n    - G = Green\n    - B = Blue\n    - I = Indigo\n    - V = Violet\n    - else print \"no match\"\n"
    },
    {
      "metadata": {
        "trusted": true
      },
      "cell_type": "code",
      "source": "# [ ] complete rainbow colors\n\nfirst_letter = input(\"Please enter the first letter of your favorite rainbow color: \")\nif first_letter.upper() == \"R\":\n    print(\"It's Red; R = Red\")\nelif first_letter.upper() == \"O\": \n    print(\"It's Orange; O = Orange\")    \nelif first_letter.upper() ==  \"Y\":\n    print(\"It's Yellow; Y = Yellow\")\nelif first_letter.upper() == \"G\":\n    print(\"It's Green; G = Green\")\nelif first_letter.upper() == \"B\":\n    print(\"It's Blue; B= Blue\")\nelif first_letter.upper() == \"I\":\n    print(\"It's Indigo; I = Indigo\")\nelif first_letter.upper() ==  \"V\":\n    print(\"It's Violet; V = Violet\")\n    \nelse:\n    print(\"No match\")\n\n",
      "execution_count": 17,
      "outputs": [
        {
          "output_type": "stream",
          "name": "stdout",
          "text": "Please enter the first letter of your favorite rainbow color: k\nNo match\n"
        }
      ]
    },
    {
      "metadata": {
        "trusted": true
      },
      "cell_type": "code",
      "source": "# [ ] make the code above into a function rainbow_color() that has a string parameter, \n# get input and call the function and return the matching color as a string or \"no match\" message.\n# Call the function and print the return string.\n\nfirst_letter = input(\"Please enter the first letter of your favorite rainbow color: \")\ndef rainbow_color():\n    \n    if first_letter.upper() == \"R\":\n        print(\"It's Red; R = Red\")\n    elif first_letter.upper() == \"O\": \n        print(\"It's Orange; O = Orange\")    \n    elif first_letter.upper() ==  \"Y\":\n        print(\"It's Yellow; Y = Yellow\")\n    elif first_letter.upper() == \"G\":\n        print(\"It's Green; G = Green\")\n    elif first_letter.upper() == \"B\":\n        print(\"It's Blue; B= Blue\")\n    elif first_letter.upper() == \"I\":\n        print(\"It's Indigo; I = Indigo\")\n    elif first_letter.upper() ==  \"V\":\n        print(\"It's Violet; V = Violet\")\n    \n    else:\n        print()\n        return 'NO Match'\n\n\nrainbow_color()\n\n              ",
      "execution_count": 31,
      "outputs": [
        {
          "output_type": "stream",
          "name": "stdout",
          "text": "Please enter the first letter of your favorite rainbow color: o\nIt's Orange; O = Orange\n"
        }
      ]
    },
    {
      "metadata": {},
      "cell_type": "markdown",
      "source": "# &nbsp;  \n**Create function age_20() that adds or subtracts 20 from your age for a return value based on current age** (use `if`) \n- call the funtion with user input and then use the return value in a sentence  \nexample `age_20(25)` returns **5**: \n> \"5 \"years old, 20 years difference from now"
    },
    {
      "metadata": {
        "trusted": true
      },
      "cell_type": "code",
      "source": "\n#age = input(\"Please enter your age: \") \ndef age_20(str):\n    age = str     \n    int_age = int(age)\n    f_age = int_age - 20\n      \n    return f_age\n    \nage_20(67)\n\nprint(str(age_20(67)),'years old, 20 years difference from now')\n",
      "execution_count": 37,
      "outputs": [
        {
          "output_type": "stream",
          "text": "47 years old, 20 years difference from now\n",
          "name": "stdout"
        }
      ]
    },
    {
      "metadata": {
        "trusted": true
      },
      "cell_type": "code",
      "source": "# [ ] complete age_20()\n\nage = input(\"Please enter your age: \") \ndef age_20():\n                 \n    int_age = int(age)\n    f_age = int_age - 20\n      \n    return f_age\n    \nage_20()\n\nprint(str(age_20()),'years old, 20 years difference from now')\n\n\n",
      "execution_count": 35,
      "outputs": [
        {
          "output_type": "stream",
          "name": "stdout",
          "text": "Please enter your age: 86\n66 years old, 20 years difference from now\n"
        }
      ]
    },
    {
      "metadata": {},
      "cell_type": "markdown",
      "source": "**create a function rainbow_or_age that takes a string argument**\n- if argument is a digit return the value of calling age_20() with the str value cast as **`int`** \n- if argument is an alphabetical character return the value of calling rainbow_color() with the str\n- if neither return FALSE"
    },
    {
      "metadata": {
        "trusted": true
      },
      "cell_type": "code",
      "source": "# [ ]  create rainbow_or_age()\n\ndef rainbow_color(str):\n    first_letter = str\n    if first_letter.upper() == \"R\":\n        print(\"It's Red; R = Red\")\n    elif first_letter.upper() == \"O\": \n        print(\"It's Orange; O = Orange\")    \n    elif first_letter.upper() ==  \"Y\":\n        print(\"It's Yellow; Y = Yellow\")\n    elif first_letter.upper() == \"G\":\n        print(\"It's Green; G = Green\")\n    elif first_letter.upper() == \"B\":\n        print(\"It's Blue; B= Blue\")\n    elif first_letter.upper() == \"I\":\n        print(\"It's Indigo; I = Indigo\")\n    elif first_letter.upper() ==  \"V\":\n        print(\"It's Violet; V = Violet\")\n    \n    else:\n        print(\"No Match\")\n        return \n\ndef age_20(str):\n    age = str     \n    int_age = int(age)\n    f_age = int_age - 20\n      \n    return f_age\n    \n\ndef rainbow_or_age(para):\n\n    if para.isalpha():\n        \n        rainbow_color(para)\n    \n    elif para.isdigit():\n        age_20(para)\n        print(str(age_20(para)),'years old, 20 years difference from now')\n    \n    else:\n        print()\n        return False;\nrainbow_or_age(\"%\")",
      "execution_count": 51,
      "outputs": [
        {
          "output_type": "stream",
          "text": "\n",
          "name": "stdout"
        },
        {
          "output_type": "execute_result",
          "execution_count": 51,
          "data": {
            "text/plain": "False"
          },
          "metadata": {}
        }
      ]
    },
    {
      "metadata": {
        "trusted": true
      },
      "cell_type": "code",
      "source": "# [ ]  add 2 numbers from input using a cast to integer and display the answer \n\nnum1 = input(\"Please enter a number: \")\nnum2 = input(\"please enter a second number: \")\nsum = int(num1) + int(num2)\nprint(\"The sum is \" + str(sum))",
      "execution_count": 53,
      "outputs": [
        {
          "output_type": "stream",
          "name": "stdout",
          "text": "Please enter a number: 78\nplease enter a second number: 22\nThe sum is 100\n"
        }
      ]
    },
    {
      "metadata": {
        "trusted": true
      },
      "cell_type": "code",
      "source": "# [ ] Multiply 2 numbers from input using cast and save the answer as part of a string \"the answer is...\"\n# display the string using print\nnum1 = input(\"Please enter a number: \")\nnum2 = input(\"please enter a second number: \")\nprint(\"the answer is \" + str(int(num1) * int(num2)))\n",
      "execution_count": 56,
      "outputs": [
        {
          "output_type": "stream",
          "name": "stdout",
          "text": "Please enter a number: 7\nplease enter a second number: 3\nthe answer is 21\n"
        }
      ]
    },
    {
      "metadata": {
        "trusted": true
      },
      "cell_type": "code",
      "source": "# [ ] get input of 2 numbers and display the average: (num1 + num2) divided by 2\n\nnum1 = input(\"Please enter a number: \")\nnum2 = input(\"please enter a second number: \")\nprint(\"average: \" + str(int(num1)/2 + int(num2)/2))",
      "execution_count": 64,
      "outputs": [
        {
          "output_type": "stream",
          "name": "stdout",
          "text": "Please enter a number: 7\nplease enter a second number: 9\naverage: 8.0\n"
        }
      ]
    },
    {
      "metadata": {
        "trusted": true
      },
      "cell_type": "code",
      "source": "# [ ] get input of 2 numbers and subtract the largest from the smallest (use an if statement to see which is larger)\n# show the answer\nnum1 = input(\"Please enter a number: \")\nnum2 = input(\"please enter a second number: \")\nif num1 > num2:\n    diff = int(num1) - int(num2)\nelse:\n    diff = int(num2) - int(num1)\nprint(\"the difference: \" + str(diff))\n",
      "execution_count": 68,
      "outputs": [
        {
          "output_type": "stream",
          "name": "stdout",
          "text": "Please enter a number: 1\nplease enter a second number: 5\nthe difference: 4\n"
        }
      ]
    },
    {
      "metadata": {
        "trusted": true
      },
      "cell_type": "code",
      "source": "# [ ] Divide a larger number by a smaller number and print the integer part of the result\n# don't divide by zero! if a zero is input make the result zero\n# [ ] cast the answer to an integer to cut off the decimals and print the result\na = input(\"Please enter a number: \")\nb = input(\"please enter a second number: \")\nnum1 = int(a)\nnum2 = int(b)\n\nif num1 == 0:\n        print(\"result = 0\")\nelif num2 == 0:\n    print(\"result = 0\")\n\nelif num1 > num2:\n    result = int(num1/num2)\n    print(\"result: \" + str(result))\nelse: \n    result = int(num2/num1)\n    print(\"result: \" + str(result))\n    \n\n\n    \n",
      "execution_count": 93,
      "outputs": [
        {
          "output_type": "stream",
          "name": "stdout",
          "text": "Please enter a number: 2\nplease enter a second number: 8\nresult: 4\n"
        }
      ]
    },
    {
      "metadata": {},
      "cell_type": "markdown",
      "source": "[Terms of use](http://go.microsoft.com/fwlink/?LinkID=206977) &nbsp; [Privacy & cookies](https://go.microsoft.com/fwlink/?LinkId=521839) &nbsp; © 2017 Microsoft"
    }
  ],
  "metadata": {
    "anaconda-cloud": {},
    "kernelspec": {
      "name": "python3",
      "display_name": "Python 3",
      "language": "python"
    },
    "language_info": {
      "mimetype": "text/x-python",
      "nbconvert_exporter": "python",
      "name": "python",
      "pygments_lexer": "ipython3",
      "version": "3.5.4",
      "file_extension": ".py",
      "codemirror_mode": {
        "version": 3,
        "name": "ipython"
      }
    }
  },
  "nbformat": 4,
  "nbformat_minor": 1
}