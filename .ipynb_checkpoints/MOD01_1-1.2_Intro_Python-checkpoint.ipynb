{
  "cells": [
    {
      "metadata": {
        "slideshow": {
          "slide_type": "slide"
        }
      },
      "cell_type": "markdown",
      "source": "# 1-1.2 Intro Python\n##  Getting started with Python in Jupyter Notebooks\n- Python 3 in Jupyter notebooks\n- `print()`\n- Comments  \n- **data types basics**\n- **variables  **\n- addition with Strings and Integers \n- Errors\n- character art  \n\n-----\n\n\n><font size=\"5\" color=\"#00A0B2\"  face=\"verdana\"> <B>Student will be able to</B></font>\n- use Python 3 in Jupyter notebooks\n- **write working code using `print()` and `#` comments**  \n- write working code using `type()` and variables\n- combine Strings using string addition (+)\n- add numbers in code (+) \n- troubleshoot errors\n- create character art"
    },
    {
      "metadata": {},
      "cell_type": "markdown",
      "source": "# &nbsp;\n<font size=\"6\" color=\"#00A0B2\"  face=\"verdana\"> <B>Concepts</B></font>\n## What is a **String?**  \n[![view video](https://iajupyterprodblobs.blob.core.windows.net/imagecontainer/common/play_video.png)]( http://edxinteractivepage.blob.core.windows.net/edxpages/f7cff1a7-5601-48a1-95a6-fd1fdfabd20e.html?details=[{\"src\":\"http://jupyternootbookwams.streaming.mediaservices.windows.net/cbe90d91-876f-42f3-90df-2955588d02b0/Unit1_Section1.2-String.ism/manifest\",\"type\":\"application/vnd.ms-sstr+xml\"}],[{\"src\":\"http://jupyternootbookwams.streaming.mediaservices.windows.net/cbe90d91-876f-42f3-90df-2955588d02b0/Unit1_Section1.2-String.vtt\",\"srclang\":\"en\",\"kind\":\"subtitles\",\"label\":\"english\"}])\nStrings were used in \"Hello World!\" print function examples. Strings are sets of characters.  In Python strings are in double or single quotes like `\"Hello World!\"` or `'after edit, save!'`  \n  \nA String is a common **type** of data, used in programming, consisting of a sequence of 1 or more characters. \n* **A String is a sequence of characters** (aka: a *string* of characters)  \n    * Character examples: `A, B, C, a, b, c, 1, 2, 3, !, &`\n* A String in python is contained in quotes, single(') or double(\")\n    * String examples:  \"ABC\", 'Joana Dias', 'I have 2 pet cats.', \"item #3 cost \\$3.29 USD\"  \n    > **Note:** the quotes containing a string must come in matched pairs   \n    > - `\"Hello\"` or `'Hello'` are correctly formatted strings  \n    > - `\"Hello'` is incorrectly formatted starting with double \" and ending with single ' python needs a matching quote to know where the string ends"
    },
    {
      "metadata": {},
      "cell_type": "markdown",
      "source": "# &nbsp;\n<font size=\"6\" color=\"#00A0B2\"  face=\"verdana\"> <B>Example</B></font>"
    },
    {
      "metadata": {
        "collapsed": true,
        "trusted": false
      },
      "cell_type": "code",
      "source": "# examples of printing strings with single and double quotes\nprint('strings go in single')\nprint(\"or double quotes\")",
      "execution_count": null,
      "outputs": []
    },
    {
      "metadata": {},
      "cell_type": "markdown",
      "source": "# &nbsp;\n<font size=\"6\" color=\"#B24C00\"  face=\"verdana\"> <B>Task 1</B></font>    \n## print messages with \"double quotes\" and 'single' quotes"
    },
    {
      "metadata": {
        "collapsed": true,
        "trusted": false
      },
      "cell_type": "code",
      "source": "# [ ] enter a string in the print() function using single quotes\n\n# [ ] enter a string in the print() function using double quotes\n\n",
      "execution_count": null,
      "outputs": []
    },
    {
      "metadata": {
        "collapsed": true,
        "slideshow": {
          "slide_type": "slide"
        }
      },
      "cell_type": "markdown",
      "source": "# &nbsp;\n<font size=\"6\" color=\"#00A0B2\"  face=\"verdana\"> <B>Concepts</B></font>\n## Integers are another type\n[![view video](https://iajupyterprodblobs.blob.core.windows.net/imagecontainer/common/play_video.png)]( http://edxinteractivepage.blob.core.windows.net/edxpages/f7cff1a7-5601-48a1-95a6-fd1fdfabd20e.html?details=[{\"src\":\"http://jupyternootbookwams.streaming.mediaservices.windows.net/7b0e6a97-551d-4f98-9646-679d30eb2ce4/Unit1_Section1.2-Integers.ism/manifest\",\"type\":\"application/vnd.ms-sstr+xml\"}],[{\"src\":\"http://jupyternootbookwams.streaming.mediaservices.windows.net/7b0e6a97-551d-4f98-9646-679d30eb2ce4/Unit1_Section1.2-Integers.vtt\",\"srclang\":\"en\",\"kind\":\"subtitles\",\"label\":\"english\"}])\n- whole numbers such as `-2, -1, 0, 1, 2, 3` are Integers \n- Integers are **not placed in quotes**  \n  \nA String can contain any character, this includes letters, spaces, punctuation, number digits and formatting. In a string with digits (`\"123\"`) the digits are text images rather than representations of numeric values.  \n\n>**remember** a line of python code starting with the pound or hash symbol (**#**) indicates a **comment**  \n&nbsp;  \ncomments are for humans to read and are not run by computers\n\n"
    },
    {
      "metadata": {},
      "cell_type": "markdown",
      "source": "# &nbsp;\n<font size=\"6\" color=\"#00A0B2\"  face=\"verdana\"> <B>Examples</B></font>"
    },
    {
      "metadata": {
        "trusted": true
      },
      "cell_type": "code",
      "source": "# printing an Integer with python\nprint(29/0)\n\n# printing a string made of Integer (number) characters with python\nprint(\"2017\")",
      "execution_count": 10,
      "outputs": [
        {
          "output_type": "error",
          "ename": "ZeroDivisionError",
          "evalue": "division by zero",
          "traceback": [
            "\u001b[0;31m---------------------------------------------------------------------------\u001b[0m",
            "\u001b[0;31mZeroDivisionError\u001b[0m                         Traceback (most recent call last)",
            "\u001b[0;32m<ipython-input-10-8baf4fb97160>\u001b[0m in \u001b[0;36m<module>\u001b[0;34m()\u001b[0m\n\u001b[1;32m      1\u001b[0m \u001b[0;31m# printing an Integer with python\u001b[0m\u001b[0;34m\u001b[0m\u001b[0;34m\u001b[0m\u001b[0m\n\u001b[0;32m----> 2\u001b[0;31m \u001b[0mprint\u001b[0m\u001b[0;34m(\u001b[0m\u001b[0;36m29\u001b[0m\u001b[0;34m/\u001b[0m\u001b[0;36m0\u001b[0m\u001b[0;34m)\u001b[0m\u001b[0;34m\u001b[0m\u001b[0m\n\u001b[0m\u001b[1;32m      3\u001b[0m \u001b[0;34m\u001b[0m\u001b[0m\n\u001b[1;32m      4\u001b[0m \u001b[0;31m# printing a string made of Integer (number) characters with python\u001b[0m\u001b[0;34m\u001b[0m\u001b[0;34m\u001b[0m\u001b[0m\n\u001b[1;32m      5\u001b[0m \u001b[0mprint\u001b[0m\u001b[0;34m(\u001b[0m\u001b[0;34m\"2017\"\u001b[0m\u001b[0;34m)\u001b[0m\u001b[0;34m\u001b[0m\u001b[0m\n",
            "\u001b[0;31mZeroDivisionError\u001b[0m: division by zero"
          ]
        }
      ]
    },
    {
      "metadata": {},
      "cell_type": "markdown",
      "source": "# &nbsp;\n<font size=\"6\" color=\"#B24C00\"  face=\"verdana\"> <B>Task 2</B></font> \n- **print Integers**\n- ** print strings made of Integer characters**"
    },
    {
      "metadata": {
        "trusted": true
      },
      "cell_type": "code",
      "source": "# [ ] print an Integer\nprint(236)\n\n# [ ] print a strings made of Integer characters\n\nprint (\"236\")\n",
      "execution_count": 11,
      "outputs": [
        {
          "output_type": "stream",
          "text": "236\n236\n",
          "name": "stdout"
        }
      ]
    },
    {
      "metadata": {},
      "cell_type": "markdown",
      "source": ">**Student Tip:** look for **[ ]** , which indicates a task in the notebook needs to be completed.  \nEdit and Run to complete the task  "
    },
    {
      "metadata": {},
      "cell_type": "markdown",
      "source": "# &nbsp;\n<font size=\"6\" color=\"#00A0B2\"  face=\"verdana\"> <B>Concepts</B></font>\n## Variables & Storing Strings in **Variables**  \n[![view video](https://iajupyterprodblobs.blob.core.windows.net/imagecontainer/common/play_video.png)]( http://edxinteractivepage.blob.core.windows.net/edxpages/f7cff1a7-5601-48a1-95a6-fd1fdfabd20e.html?details=[{\"src\":\"http://jupyternootbookwams.streaming.mediaservices.windows.net/bc5d7c7c-b30f-41d1-acc3-131fa4bc9634/Unit1_Section1.2-Variables.ism/manifest\",\"type\":\"application/vnd.ms-sstr+xml\"}],[{\"src\":\"http://jupyternootbookwams.streaming.mediaservices.windows.net/bc5d7c7c-b30f-41d1-acc3-131fa4bc9634/Unit1_Section1.2-Variables.vtt\",\"srclang\":\"en\",\"kind\":\"subtitles\",\"label\":\"english\"}])\n### Variables are named containers\nComputer programs often create storage for things that are used in repeated processing like item_price, student_name, stock_symbol. In python a variable  is a type of **object** that can be addressed by name to access the assigned contents.\n\n#### Name a variable staring with a letter or underscore \"_\"\nThere are different styles for creating variables this course uses lowercase descriptive names connected by underscores:\n- item_price\n- student_name\n- stock_symbol  \n\ndescriptive names reduce the need for comments in the code and make it easier to share code or read code written long ago\n\n### Variables can hold strings\nonce a variable is **assigned**:\n>**`current_msg = \"I am a string\" `**  \n  \na python program can refer to the variable, &nbsp; **`current_msg`**, &nbsp; in code  \nso that &nbsp;**` current_msg `**, can be used like the string value &nbsp;(**`\"I am a string\"`**) &nbsp; which it stores  \n  \n### Variable reassignment\nWe can reassign a variable, changing the contents.   **`current_msg = \"new current message\" `**  \n\n### Variables can be used in place of literals \nIf we initialize **`current_msg = \"new current message\" `** then  \nthe literal string **` \"new current message\" `** and the variable **` current_msg `** are the same when used in code"
    },
    {
      "metadata": {},
      "cell_type": "markdown",
      "source": "# &nbsp;\n<font size=\"6\" color=\"#00A0B2\"  face=\"verdana\"> <B>Examples</B></font>\n- **Initializing variables**\n- **literals & variables** in printing\n- **Variable reassignment**"
    },
    {
      "metadata": {
        "trusted": true
      },
      "cell_type": "code",
      "source": "# [ ] Review code and Run\n# initialize the variable\ncurrent_msg = \"I am a string\"\n\n# print literal string\nprint(\"I am a string\")\n\n# print variable string\nprint(current_msg)",
      "execution_count": 12,
      "outputs": [
        {
          "output_type": "stream",
          "text": "I am a string\nI am a string\n",
          "name": "stdout"
        }
      ]
    },
    {
      "metadata": {
        "scrolled": true,
        "trusted": true
      },
      "cell_type": "code",
      "source": "# [ ] Review code and Run\n# assign a new string to the current_msg\ncurrent_msg = \"Run this cell using Ctrl+Enter\"\n\nprint(current_msg)",
      "execution_count": 16,
      "outputs": [
        {
          "output_type": "stream",
          "text": "Run this cell using Ctrl+Enter\n",
          "name": "stdout"
        }
      ]
    },
    {
      "metadata": {},
      "cell_type": "markdown",
      "source": "# &nbsp;\n<font size=\"6\" color=\"#B24C00\"  face=\"verdana\"> <B>Task 3</B></font> \n## Program: assigning values to a string\n- in the cell below\n  - print the variable current_msg  \n  - assign a new string to current_msg  \n  - print the variable  current_msg again\n- run the code cell above and then run the cell below"
    },
    {
      "metadata": {
        "trusted": true
      },
      "cell_type": "code",
      "source": "# { ] run cell above then run this cell after completing the code as directed\nprint (current_msg)\ncurrent_msg = \"Assigned new message\"\nprint (current_msg)",
      "execution_count": 17,
      "outputs": [
        {
          "output_type": "stream",
          "text": "Run this cell using Ctrl+Enter\nAssigned new message\n",
          "name": "stdout"
        }
      ]
    },
    {
      "metadata": {},
      "cell_type": "markdown",
      "source": "**Q?:** In the cell above, why did the variable have a value to print before it was assigned?  \n  \nJupyter notebooks run cells individually.  Any cell in the notebook can access a variable assigned from a cell that has been run in the current notebook session."
    },
    {
      "metadata": {
        "slideshow": {
          "slide_type": "subslide"
        }
      },
      "cell_type": "markdown",
      "source": "# &nbsp;\n<font size=\"6\" color=\"#00A0B2\"  face=\"verdana\"> <B>Concepts</B></font>\n## Data types in variables\n[![view video](https://iajupyterprodblobs.blob.core.windows.net/imagecontainer/common/play_video.png)]( http://edxinteractivepage.blob.core.windows.net/edxpages/f7cff1a7-5601-48a1-95a6-fd1fdfabd20e.html?details=[{\"src\":\"http://jupyternootbookwams.streaming.mediaservices.windows.net/85de7ef1-bdd3-4460-849a-41e976bfdf46/Unit1_Section1.2-Types.ism/manifest\",\"type\":\"application/vnd.ms-sstr+xml\"}],[{\"src\":\"http://jupyternootbookwams.streaming.mediaservices.windows.net/85de7ef1-bdd3-4460-849a-41e976bfdf46/Unit1_Section1.2-Types.vtt\",\"srclang\":\"en\",\"kind\":\"subtitles\",\"label\":\"english\"}])\nvariables can be initialized with different data types.  Below we see item_price is a **decimal** (aka - float) and student_name is **string** \n  \n```python\nitem_price = 10.25 #item_price initialized as a numeric value (no quotes)\nstudent_name =\"Dias, Joana\" #student_name initialized as a string\nlicense_plate = \"123A\" #license_plate initialized as a string\n```\n\n\n### Variables can start initialized as an Integer number data type  \n>```python \nx = 22\n``` \nhere the Integer `22`&nbsp; value was assigned to the variable &nbsp;**`x`**    \n\n### The type of data a variable holds can be changed,\n### Python variables can change the **type** of data a variable holds  \n\n>```python\nx = 22\nx = \"I am a string\"\n```  \n\n**` x `**&nbsp; changed type from Integer &nbsp;**`x = 22`**&nbsp; to string&nbsp; **`x = \"I am a string\"`**  \n   \n>>|Best Practice: Friendly Names |\n|------------------------------------------------------------------------------------------|\n| **Friendly name** examples, (`item_price, student_name,license_plate`), were used above. |  \n  \n  \n#### Variables help us to write code that can be used repeatedly\nA personalized letter can be sent to every student with individual names by using a name in a variable. Let's start with printing a name based on string variable.\n\nCreate a variable, `name`, at the top of the next cell. Assign a string value to &nbsp; `name `. \n\n> Remember to use the quotes for string values\n\nexample:\n\n```python\nname = \"Joana Dias\"\nprint(name)\n```"
    },
    {
      "metadata": {},
      "cell_type": "markdown",
      "source": "# &nbsp;\n<font size=\"6\" color=\"#00A0B2\"  face=\"verdana\"> <B>Examples</B></font>"
    },
    {
      "metadata": {
        "trusted": true
      },
      "cell_type": "code",
      "source": "test_value = 22\nprint(test_value)\ntest_value = \"Joana\"\nprint(test_value)",
      "execution_count": 18,
      "outputs": [
        {
          "output_type": "stream",
          "text": "22\nJoana\n",
          "name": "stdout"
        }
      ]
    },
    {
      "metadata": {},
      "cell_type": "markdown",
      "source": "# &nbsp;\n<font size=\"6\" color=\"#B24C00\"  face=\"verdana\"> <B>Task 4: multi-part</B></font> \n## Assign a variable and print the value\n- assign a string value to a variable **`student_name`**\n- print the value of variable **`student_name`**"
    },
    {
      "metadata": {
        "slideshow": {
          "slide_type": "subslide"
        },
        "trusted": true
      },
      "cell_type": "code",
      "source": "# [ ] assign a string value to a variable student_name\nstudent_name = \"mesbah\"\n\n# [ ] print the value of variable student_name\nprint (student_name)\n",
      "execution_count": 20,
      "outputs": [
        {
          "output_type": "stream",
          "text": "mesbah\n",
          "name": "stdout"
        }
      ]
    },
    {
      "metadata": {},
      "cell_type": "markdown",
      "source": "<font size=\"3\" color=\"#B24C00\"  face=\"verdana\"> <B>Tasks 4 cont...</B></font> \n##  modified the value of a variable\n- assign the **`student_name`** variable  a different string value (a different name)\n- print the value of variable **`student_name`**\n- assign and print a 3rd value to **`student_name`**"
    },
    {
      "metadata": {
        "trusted": true
      },
      "cell_type": "code",
      "source": "# [ ] assign the student_name variable  a different string value (a different name)\nstudent_name = \"mesbah ahmed\"\n# [ ] print the value of variable student_name\nprint (student_name)\n# [ ] assign a 3rd different string value, to the variable name \nstudent_name = \"mesbahuddin ahmed\"\n# [ ] print the value of variable name\n\nprint (student_name)",
      "execution_count": 25,
      "outputs": [
        {
          "output_type": "stream",
          "text": "mesbah ahmed\nmesbahuddin ahmed\n",
          "name": "stdout"
        }
      ]
    },
    {
      "metadata": {},
      "cell_type": "markdown",
      "source": "<font size=\"3\" color=\"#B24C00\"  face=\"verdana\"> <B>Tasks 4 cont...</B></font> \n##  change variable type with reassignment\n- assigning a value to a variable called **`bucket`**\n- print the value of **`bucket`**\n- assign an Integer value (no quotes) to the variable **`bucket`**\n-  print the value of **`bucket`** "
    },
    {
      "metadata": {
        "trusted": true
      },
      "cell_type": "code",
      "source": "# [ ] assigning a value to a variable called bucket\nbucket = \"10\"\n# [ ] print the value of bucket \nprint(bucket)\n# [ ] assign an Integer value (no quotes) to the variable bucket\nbucket = 10\n# [ ] print the value of bucket \n\nprint (bucket)\n",
      "execution_count": 26,
      "outputs": [
        {
          "output_type": "stream",
          "text": "10\n10\n",
          "name": "stdout"
        }
      ]
    },
    {
      "metadata": {
        "slideshow": {
          "slide_type": "subslide"
        }
      },
      "cell_type": "markdown",
      "source": "## Q?: What is the difference between `123` and  `'123'`?  \n  \n**A:** A String type **is not** a number, even if it  is all numeric digits\n* in Python code a number can be assigned to a variable: `x = 31`\n* a string of digits can be assigned to the variable **`id`**&nbsp; --> `id = \"001023\"`&nbsp; the quotations, mean the number symbols should be stored in the variable as **type** string, meaning the digits&nbsp;\"`001023`\"&nbsp; are treated as text\n    \nThe **`print()`** function can print Integer or string values:\n```python\nprint(123) #integer, with numeric value\nprint(\"123\") #string, represents text characters\n```  \n<font size=\"3\" color=\"#B24C00\"  face=\"verdana\"> <B>Tasks 4 cont...</B></font> \n- run the above code the next cell:  "
    },
    {
      "metadata": {
        "trusted": true
      },
      "cell_type": "code",
      "source": "# [ ] print integer 123 number\nprint (123)\n# [ ] print string \"123\" number\n\nprint(\"123\")\n",
      "execution_count": 27,
      "outputs": [
        {
          "output_type": "stream",
          "text": "123\n123\n",
          "name": "stdout"
        }
      ]
    },
    {
      "metadata": {},
      "cell_type": "markdown",
      "source": "[Terms of use](http://go.microsoft.com/fwlink/?LinkID=206977) &nbsp; [Privacy & cookies](https://go.microsoft.com/fwlink/?LinkId=521839) &nbsp; © 2017 Microsoft"
    }
  ],
  "metadata": {
    "anaconda-cloud": {},
    "kernelspec": {
      "name": "python3",
      "display_name": "Python 3",
      "language": "python"
    },
    "language_info": {
      "mimetype": "text/x-python",
      "nbconvert_exporter": "python",
      "name": "python",
      "pygments_lexer": "ipython3",
      "version": "3.5.4",
      "file_extension": ".py",
      "codemirror_mode": {
        "version": 3,
        "name": "ipython"
      }
    }
  },
  "nbformat": 4,
  "nbformat_minor": 1
}