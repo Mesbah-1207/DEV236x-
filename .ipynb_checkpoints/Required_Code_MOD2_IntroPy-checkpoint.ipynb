{
  "cells": [
    {
      "metadata": {
        "collapsed": true
      },
      "cell_type": "markdown",
      "source": "#  Module 2 Required Coding Activity  \nIntroduction to Python Unit 1  \n\nThis is an activity based on code similar to the Jupyter Notebook **`Practice_MOD02_1-3_IntroPy.ipynb`** which you may have completed.\n\n| Some Assignment Requirements |  \n|:-------------------------------|  \n| **NOTE:** This program requires a **function** be defined, created and called. The call will send values based on user input.  The function call must capture a `return` value that is used in print output.  The function will have parameters and `return` a string and should otherwise use code syntax covered in module 2.  |  \n \n## Program: fishstore()\ncreate and test fishstore()\n- **fishstore() takes 2 string arguments: fish & price**\n- **fishstore returns a string in sentence form**  \n- **gather input for fish_entry and price_entry to use in calling fishstore()**\n- **print the return value of fishstore()**\n>example of output: **`Fish Type: Guppy costs $1`**"
    },
    {
      "metadata": {
        "trusted": true
      },
      "cell_type": "code",
      "source": "# [ ] create, call and test fishstore() function \n# then PASTE THIS CODE into edX\nfish_entry = input(\"Please enter the fish name: \")\nprice_entry = input(\"Please enter the price: \")\n\ndef fishstore(arg1, arg2):\n    \n    arg1 = fish_entry \n    arg2 = price_entry\n    return fish_entry, price_entry;\nfishstore(fish_entry, price_entry)\nprint(\"Fish Type: \" + fish_entry + \" costs \" + price_entry)",
      "execution_count": 1,
      "outputs": [
        {
          "output_type": "stream",
          "name": "stdout",
          "text": "Please enter the fish name: tuna\nPlease enter the price: 31\nFish Type: tuna costs 31\n"
        }
      ]
    },
    {
      "metadata": {},
      "cell_type": "markdown",
      "source": "### Need assignment tips and clarification? \nSee the video on the \"End of Module coding assignment > Module 2 Required Code Description\" course page on [edX](https://courses.edx.org/courses/course-v1:Microsoft+DEV236x+4T2017/course)    \n\n# Important:  [How to submit the code in edX by pasting](https://courses.edx.org/courses/course-v1:Microsoft+DEV236x+1T2017/wiki/Microsoft.DEV236x.3T2018/paste-code-end-module-coding-assignments/)"
    },
    {
      "metadata": {},
      "cell_type": "markdown",
      "source": "[Terms of use](http://go.microsoft.com/fwlink/?LinkID=206977) &nbsp; [Privacy & cookies](https://go.microsoft.com/fwlink/?LinkId=521839) &nbsp; © 2017 Microsoft"
    }
  ],
  "metadata": {
    "kernelspec": {
      "name": "python3",
      "display_name": "Python 3",
      "language": "python"
    },
    "language_info": {
      "mimetype": "text/x-python",
      "nbconvert_exporter": "python",
      "name": "python",
      "file_extension": ".py",
      "version": "3.5.4",
      "pygments_lexer": "ipython3",
      "codemirror_mode": {
        "version": 3,
        "name": "ipython"
      }
    }
  },
  "nbformat": 4,
  "nbformat_minor": 1
}