{
  "cells": [
    {
      "metadata": {},
      "cell_type": "markdown",
      "source": "# 1-4.3 Intro Python Practice\n## Conditionals \n<font size=\"5\" color=\"#00A0B2\"  face=\"verdana\"> <B>Student will be able to</B></font>  \n- **control code flow with `if`... `else` conditional logic**  \n  - using Boolean string methods (`.isupper(), .isalpha(), .startswith()...`)  \n  - using comparision (`>, <, >=, <=, ==, !=`)  \n  - using Strings in comparisons  "
    },
    {
      "metadata": {},
      "cell_type": "markdown",
      "source": "## `if else`\n"
    },
    {
      "metadata": {
        "trusted": true
      },
      "cell_type": "code",
      "source": "# [ ] input avariable: age as digit and cast to int\nage = int(input(\"Please enter your age: \"))\n\n# if age greater than or equal to 12 then print message on age in 10 years \nif age >= 12:\n    print(\"In 10 years age will be \" + str(age + int(10)))\n# or else print message \"It is good to be\" age\n\nelse:\n    print(\"it is good to be \"+ str(age))\n\n\n",
      "execution_count": 5,
      "outputs": [
        {
          "output_type": "stream",
          "name": "stdout",
          "text": "Please enter your age: 13\nIn 10 years age will be 23\n"
        }
      ]
    },
    {
      "metadata": {
        "trusted": true
      },
      "cell_type": "code",
      "source": "# [ ] input a number \nnumber = input(\"please enter a number: \")\n# if number IS a digit string then cast to int\nif number.isdigit():\n    int_num = int(number)\n# if number is NOT a digit string then message the user that \"only int is accepted\"\nelse:\n    print(\"Only int is accepted\")\n# print number \"greater than 100 is\" True/False\nif int_num >= 100:\n    print(\"True\")\nelse:\n    print(\"False\")\n    \n\n\n\n",
      "execution_count": 8,
      "outputs": [
        {
          "output_type": "stream",
          "name": "stdout",
          "text": "please enter a number: 67\nFalse\n"
        }
      ]
    },
    {
      "metadata": {},
      "cell_type": "markdown",
      "source": "### Guessing a letter A-Z  \n**check_guess()** takes 2 string arguments: **letter and guess** (both expect single alphabetical character)   \n    - if guess is not an alpha character print invalid and return False\n    - test and print if guess is \"high\" or \"low\" and return False\n    - test and print if guess is \"correct\" and return True"
    },
    {
      "metadata": {
        "trusted": true
      },
      "cell_type": "code",
      "source": "# [ ] create check_guess()\ndef check_guess(letter, guess):\n    if guess.isalpha():\n        if guess > letter:\n            print(\"high\")\n        else:\n            print(\"low\")\n            return False;\n    else:\n        print(\"Invalid\")\n        return False;\n# call with test\n\ncheck_guess(\"z\", \"3\")\n",
      "execution_count": 23,
      "outputs": [
        {
          "output_type": "stream",
          "text": "Invalid\n",
          "name": "stdout"
        },
        {
          "output_type": "execute_result",
          "execution_count": 23,
          "data": {
            "text/plain": "False"
          },
          "metadata": {}
        }
      ]
    },
    {
      "metadata": {
        "trusted": true
      },
      "cell_type": "code",
      "source": "# [ ] call check_guess with user input\nguess = input(\"please enter a guess: \")\nletter = \"f\"\ndef check_guess(letter, guess):\n    if guess.isalpha():\n        if guess > letter:\n            print(\"high\")\n        else:\n            print(\"low\")\n            return False;\n    else:\n        print(\"Invalid\")\n        return False;\n# call with test\n\ncheck_guess(letter, guess)",
      "execution_count": 26,
      "outputs": [
        {
          "output_type": "stream",
          "name": "stdout",
          "text": "please enter a guess: z\nhigh\n"
        }
      ]
    },
    {
      "metadata": {},
      "cell_type": "markdown",
      "source": "### Letter Guess\n**create letter_guess() function that gives user 3 guesses**\n- takes a letter character argument for the answer letter\n- gets user input for letter guess  \n- calls check_guess() with answer and guess\n- End letter_guess if \n    - check_guess() equals True, return True  \n    - or after 3 failed attempts, return False"
    },
    {
      "metadata": {
        "trusted": true
      },
      "cell_type": "code",
      "source": "# [ ] create letter_guess() function, call the function to test\n\ndef check_guess(answer, guess):\n    if guess == answer:\n        return True;\n    else:\n        return False;\ndef letter_guess(str):\n    answer = str\n    if check_guess(answer,guess):\n        return True;\n    else:\n        print()\n        return False;\n\ncounter = 3\nwhile counter > 0: \n    guess = input(\"enter: \")\n    letter_guess(\"L\")\n    counter = counter - 1\n    if letter_guess(\"L\"):\n        break\nelse: \n    print(False)\n    \n    \n\n\n",
      "execution_count": 2,
      "outputs": [
        {
          "output_type": "stream",
          "name": "stdout",
          "text": "enter: k\n\n\nenter: k\n\n\nenter: k\n\n\nFalse\n"
        }
      ]
    },
    {
      "metadata": {},
      "cell_type": "markdown",
      "source": "### Pet Conversation\n**ask the user for a sentence about a pet and then reply**  \n- get user input in variable: about_pet\n- using a series of **if** statements respond with appropriate conversation\n  - check if \"dog\" is in the string about_pet (sample reply \"Ah, a dog\")\n  - check if \"cat\" is in the string about_pet\n  - check if 1 or more animal is in string about_pet\n- no need for **else**'s\n- finish with thanking for the story"
    },
    {
      "metadata": {
        "collapsed": true,
        "trusted": false
      },
      "cell_type": "code",
      "source": "# [ ] complete pet conversation\n\nabout_pet = input(\"Please enter a sentence about pet: \")\nif \"dog\" in about_pet.lower():\n    print(\"Dog is a very trustry and helpful pet!\")\nif \"cat\" in about_pet.lower():\n    print(\"Cat is a delighful and stress reliever!\")\nif \"lion\" in about_pet.lower():\n    print('Did you watch the \"Lion King\" movie?')\nif \"tiger\" in about_pet.lower():\n    print(\"Did you know white Tiger is an endangered species?\")\n    ",
      "execution_count": null,
      "outputs": []
    },
    {
      "metadata": {
        "collapsed": true
      },
      "cell_type": "markdown",
      "source": "[Terms of use](http://go.microsoft.com/fwlink/?LinkID=206977) &nbsp; [Privacy & cookies](https://go.microsoft.com/fwlink/?LinkId=521839) &nbsp; © 2017 Microsoft"
    }
  ],
  "metadata": {
    "anaconda-cloud": {},
    "kernelspec": {
      "name": "python3",
      "display_name": "Python 3",
      "language": "python"
    },
    "language_info": {
      "mimetype": "text/x-python",
      "nbconvert_exporter": "python",
      "name": "python",
      "pygments_lexer": "ipython3",
      "version": "3.5.4",
      "file_extension": ".py",
      "codemirror_mode": {
        "version": 3,
        "name": "ipython"
      }
    }
  },
  "nbformat": 4,
  "nbformat_minor": 1
}